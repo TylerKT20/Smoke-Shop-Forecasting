{
 "cells": [
  {
   "cell_type": "markdown",
   "id": "2e9d2cf2",
   "metadata": {},
   "source": [
    "# Smoke Shop Sales Optimization\n",
    "\n",
    "Initial data analysis and forecasting notebook."
   ]
  },
  {
   "cell_type": "code",
   "execution_count": null,
   "id": "e8e416ef",
   "metadata": {},
   "outputs": [],
   "source": [
    "import pandas as pd\n",
    "import matplotlib.pyplot as plt\n",
    "import seaborn as sns\n",
    "\n",
    "sns.set(style='whitegrid')"
   ]
  },
  {
   "cell_type": "code",
   "execution_count": null,
   "id": "1e1468e3",
   "metadata": {},
   "outputs": [],
   "source": [
    "df = pd.read_csv('../data/smoke_shop_transactions.csv', parse_dates=['date'])\n",
    "df.head()"
   ]
  },
  {
   "cell_type": "code",
   "execution_count": null,
   "id": "9c30c6a1",
   "metadata": {},
   "outputs": [],
   "source": [
    "df.info()"
   ]
  },
  {
   "cell_type": "code",
   "execution_count": null,
   "id": "1574211a",
   "metadata": {},
   "outputs": [],
   "source": [
    "# Revenue by product\n",
    "df.groupby('product_name')['revenue'].sum().sort_values().plot(kind='barh', figsize=(10,5), title='Revenue by Product')\n",
    "plt.xlabel('Revenue ($)')\n",
    "plt.show()"
   ]
  },
  {
   "cell_type": "code",
   "execution_count": null,
   "id": "d8d3296a",
   "metadata": {},
   "outputs": [],
   "source": [
    "# Weekly demand\n",
    "\n",
    "df['week'] = df['date'].dt.to_period('W').apply(lambda r: r.start_time)\n",
    "df.groupby(['week', 'product_name'])['quantity'].sum().unstack().fillna(0).head()"
   ]
  }
 ],
 "metadata": {},
 "nbformat": 4,
 "nbformat_minor": 5
}